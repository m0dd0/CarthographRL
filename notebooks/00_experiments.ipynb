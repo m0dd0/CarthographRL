{
 "cells": [
  {
   "cell_type": "code",
   "execution_count": 14,
   "metadata": {},
   "outputs": [],
   "source": [
    "import numpy as np\n",
    "import skimage as ski\n"
   ]
  },
  {
   "cell_type": "code",
   "execution_count": 25,
   "metadata": {},
   "outputs": [
    {
     "name": "stdout",
     "output_type": "stream",
     "text": [
      "[D(2), D(1), D(3)]\n"
     ]
    }
   ],
   "source": [
    "class D:\n",
    "    def __init__(self, a):\n",
    "        self.a = a\n",
    "\n",
    "    def __repr__(self):\n",
    "        return f\"D({self.a})\"\n",
    "\n",
    "a = [D(1), D(2), D(3)]\n",
    "\n",
    "np.random.shuffle(a)\n",
    "\n",
    "print(a)"
   ]
  }
 ],
 "metadata": {
  "kernelspec": {
   "display_name": "venv",
   "language": "python",
   "name": "python3"
  },
  "language_info": {
   "codemirror_mode": {
    "name": "ipython",
    "version": 3
   },
   "file_extension": ".py",
   "mimetype": "text/x-python",
   "name": "python",
   "nbconvert_exporter": "python",
   "pygments_lexer": "ipython3",
   "version": "3.9.12"
  },
  "orig_nbformat": 4,
  "vscode": {
   "interpreter": {
    "hash": "4d8ac820f365ea5ecb997ec1b1ab752a86f5fa4807a48d72cd0ea82020a7f31d"
   }
  }
 },
 "nbformat": 4,
 "nbformat_minor": 2
}
